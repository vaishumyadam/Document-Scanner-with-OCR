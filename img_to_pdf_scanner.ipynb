{
 "cells": [
  {
   "cell_type": "code",
   "execution_count": null,
   "metadata": {},
   "outputs": [],
   "source": [
    "## Vaishu Myadam (vmyadam1208@gmail.com)\n",
    "## June, 2020\n",
    "\n",
    "## Inspired by pyimagesearch tutorial\n",
    "## Additions and improvements were made in terms of using less modules, converting to pdf, doing calculations from scratch, and not grayscaling end result"
   ]
  },
  {
   "cell_type": "code",
   "execution_count": null,
   "metadata": {},
   "outputs": [],
   "source": [
    "# Necessary imports\n",
    "\n",
    "import numpy as np \n",
    "import cv2\n",
    "from fpdf import FPDF"
   ]
  },
  {
   "cell_type": "code",
   "execution_count": null,
   "metadata": {},
   "outputs": [],
   "source": [
    "img = cv2.imread(\"image.jpg\", 1)\n",
    "\n",
    "# Resize, grayscale, blur, edges -> contours\n",
    "\n",
    "img = cv2.resize(img,(600,800))\n",
    "greyed_image = cv2.cvtColor(img, cv2.COLOR_BGR2GRAY)\n",
    "blurred_image = cv2.GaussianBlur(greyed_image, (5,5),0)\n",
    "edged_image = cv2.Canny(blurred_image, 0, 50)   \n",
    "\n",
    "# Finding the biggest contour with 4 edges because this is meant to scan documents\n",
    "\n",
    "contours = cv2.findContours(edged_image, cv2.RETR_EXTERNAL, cv2.CHAIN_APPROX_SIMPLE)\n",
    "contours = contours[0] if len(contours) == 2 else contours[1]\n",
    "contours = sorted(contours, key=cv2.contourArea, reverse= True)\n",
    "\n",
    "for contour in contours:\n",
    "    elip =  cv2.arcLength(contour True)\n",
    "    approx = cv2.approxPolyDP(contour 0.08*elip, True)\n",
    "\n",
    "    if len(approx) == 4: \n",
    "        doc = approx \n",
    "        break\n",
    "\n",
    "cv2.drawContours(img, [doc], -1, (0, 255, 0), 2)\n",
    "doc = doc.reshape((4,2))"
   ]
  },
  {
   "cell_type": "code",
   "execution_count": null,
   "metadata": {},
   "outputs": [],
   "source": [
    "# Saving distances to get cropped version \n",
    "\n",
    "array = np.zeros((4,2), dtype = \"float32\")\n",
    "\n",
    "Sum = doc.sum(axis = 1)\n",
    "array[0] = doc[np.argmin(Sum)]\n",
    "array[2] = doc[np.argmax(Sum)]\n",
    "\n",
    "Difference = np.diff(doc, axis = 1)\n",
    "array[1] = doc[np.argmin(Difference)]\n",
    "array[3] = doc[np.argmax(Difference)]\n",
    "\n",
    "(tl,tr,br,bl) = array"
   ]
  },
  {
   "cell_type": "code",
   "execution_count": null,
   "metadata": {},
   "outputs": [],
   "source": [
    "# Finding the maximum distances\n",
    "\n",
    "left = np.linalg.norm(br - bl)\n",
    "right = np.linalg.norm(tr - tl)\n",
    "\n",
    "length = max(int(left), int(right))\n",
    "\n",
    "up = np.linalg.norm(tr - br)\n",
    "down = np.linalg.norm(tl - bl)\n",
    "\n",
    "height = max(int(up), int(down))\n",
    "\n",
    "dst = np.array([[0,0], [length - 1, 0], [length - 1, height - 1], [0, height - 1]], dtype = \"float32\")\n",
    "\n",
    "pers = cv2.getPerspectiveTransform(new_doc, dst)\n",
    "warp = cv2.warpPerspective(img, pers, (length, height))\n",
    "\n",
    "scanned_image = cv2.cvtColor(warp, cv2.COLOR_BGR2GRAY)\n",
    "scanned_image = cv2.resize(scanned_image,(600, 800))"
   ]
  },
  {
   "cell_type": "code",
   "execution_count": null,
   "metadata": {},
   "outputs": [],
   "source": [
    "# Showing process\n",
    "\n",
    "cv2.imshow(\"original_image.jpg\", img)\n",
    "cv2.imshow(\"grey_image.jpg\", greyed_image)\n",
    "cv2.imshow(\"blurred_image.jpg\", blurred_image)\n",
    "cv2.imshow(\"edged_image.jpg\", edged_image)\n",
    "cv2.imshow(\"contoured_image.jpg\", img)\n",
    "cv2.imshow(\"scanned_image.jpg\", scanned_image)\n",
    "\n",
    "cv2.imwrite(\"scanned_image.jpg\", scanned_image) # saving\n",
    "\n",
    "cv2.waitKey(0)\n",
    "cv2.destroyAllWindows()"
   ]
  },
  {
   "cell_type": "code",
   "execution_count": null,
   "metadata": {},
   "outputs": [],
   "source": [
    "# Converting to pdf\n",
    "\n",
    "pdf = FPDF()\n",
    "pdf.add_page()\n",
    "\n",
    "pdf.image(\"scanned_image.jpg\", 0, 0, 210, 297) # 210 x 294 = Size of A4 paper sheet.\n",
    "pdf.output(\"pdf.pdf\", \"F\")"
   ]
  }
 ],
 "metadata": {
  "kernelspec": {
   "display_name": "Python 3",
   "language": "python",
   "name": "python3"
  },
  "language_info": {
   "codemirror_mode": {
    "name": "ipython",
    "version": 3
   },
   "file_extension": ".py",
   "mimetype": "text/x-python",
   "name": "python",
   "nbconvert_exporter": "python",
   "pygments_lexer": "ipython3",
   "version": "3.7.4"
  }
 },
 "nbformat": 4,
 "nbformat_minor": 2
}
