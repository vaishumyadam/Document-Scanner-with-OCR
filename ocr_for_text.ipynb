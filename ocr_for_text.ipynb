{
 "cells": [
  {
   "cell_type": "code",
   "execution_count": 1,
   "metadata": {},
   "outputs": [],
   "source": [
    "## Vaishu Myadam (vmyadam1208@gmail.com)\n",
    "## June, 2020\n",
    "\n",
    "## Pieces from pytesseract documentation examples"
   ]
  },
  {
   "cell_type": "code",
   "execution_count": null,
   "metadata": {},
   "outputs": [],
   "source": [
    "# Necessary imports\n",
    "\n",
    "import os\n",
    "import io\n",
    "from PIL import Image\n",
    "import pytesseract\n",
    "from wand.image import Image as wi\n",
    "import gc"
   ]
  },
  {
   "cell_type": "code",
   "execution_count": null,
   "metadata": {},
   "outputs": [],
   "source": [
    "# Obtains text from pdf (OCR)\n",
    "\n",
    "path_to_pdf = \"pdf.pdf\"\n",
    "pdf = wi(filename=\"pdf.pdf\", resolution = 400)\n",
    "as_image = pdf.convert('jpeg')\n",
    "\n",
    "blobs = []\n",
    "words_obtained = []\n",
    "\n",
    "pdf = wi(filename = path_to_pdf, resolution = 400)\n",
    "as_image = pdf.convert('jpeg')\n",
    "blobs = []\n",
    "words_obtained = []\n",
    "\n",
    "for element in as_image.sequence:\n",
    "    pg = wi(image = element)\n",
    "    blobs.append(pg.make_blob('jpeg'))\n",
    "\n",
    "for blob in blobs:\n",
    "    img = Image.open(io.BytesIO(blob))\n",
    "    text = pytesseract.image_to_string(img,lang='eng')\n",
    "    words_obtained.append(text)"
   ]
  },
  {
   "cell_type": "code",
   "execution_count": 1,
   "metadata": {},
   "outputs": [],
   "source": [
    "# writing to new text file\n",
    "\n",
    "file = open(\"obtained_text.txt\", \"w\") \n",
    "file.write(words_obtained) \n",
    "file.close() "
   ]
  }
 ],
 "metadata": {
  "kernelspec": {
   "display_name": "Python 3",
   "language": "python",
   "name": "python3"
  },
  "language_info": {
   "codemirror_mode": {
    "name": "ipython",
    "version": 3
   },
   "file_extension": ".py",
   "mimetype": "text/x-python",
   "name": "python",
   "nbconvert_exporter": "python",
   "pygments_lexer": "ipython3",
   "version": "3.7.4"
  }
 },
 "nbformat": 4,
 "nbformat_minor": 2
}
